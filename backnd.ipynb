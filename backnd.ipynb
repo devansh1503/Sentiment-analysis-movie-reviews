{
 "cells": [
  {
   "cell_type": "code",
   "execution_count": 1,
   "metadata": {},
   "outputs": [],
   "source": [
    "from tensorflow import keras\n",
    "from keras.datasets import imdb\n",
    "import numpy as np\n",
    "from keras.preprocessing import sequence\n",
    "from flask import  Flask,render_template,request"
   ]
  },
  {
   "cell_type": "code",
   "execution_count": 14,
   "metadata": {},
   "outputs": [],
   "source": [
    "model = keras.models.load_model('sentiment')\n",
    "word_index = imdb.get_word_index() #gets dict mapping of words in dataset\n",
    "MAXLEN=250\n",
    "def encode_text(text):\n",
    "  tokens = keras.preprocessing.text.text_to_word_sequence(text) \n",
    "  tokens = [word_index[word] if word in word_index else 0 for word in tokens] #encodes the data if the word is present in dataset, else puts 0\n",
    "  return sequence.pad_sequences([tokens], MAXLEN)[0] #does padding upto 250 \n",
    "\n",
    "def predict(text):\n",
    "  encoded_text = encode_text(text)\n",
    "  pred = np.zeros((1,250))\n",
    "  pred[0] = encoded_text\n",
    "  result = model.predict(pred) \n",
    "  if(result[0]>0.5):\n",
    "    return \"Positive review\"\n",
    "  else:\n",
    "    return \"Negative review\""
   ]
  },
  {
   "cell_type": "code",
   "execution_count": null,
   "metadata": {},
   "outputs": [],
   "source": [
    "app = Flask(__name__)\n",
    "@app.route(\"/\")\n",
    "def hello():\n",
    "    return render_template('home.html',result=\"\")\n",
    "@app.route(\"/pred\",methods=['GET','POST'])\n",
    "def pred():\n",
    "    if request.method =='POST':\n",
    "        rev = request.form['review']\n",
    "        res = predict(rev)\n",
    "    return render_template('home.html',result=res)\n",
    "if __name__ == '__main__':\n",
    "    app.run(host='0.0.0.0')"
   ]
  }
 ],
 "metadata": {
  "interpreter": {
   "hash": "4e4149bc7421ca705a495cb58bc44dc4cc92dc4a9592f5e3bb92c54cb570f098"
  },
  "kernelspec": {
   "display_name": "Python 3.9.0 64-bit",
   "language": "python",
   "name": "python3"
  },
  "language_info": {
   "codemirror_mode": {
    "name": "ipython",
    "version": 3
   },
   "file_extension": ".py",
   "mimetype": "text/x-python",
   "name": "python",
   "nbconvert_exporter": "python",
   "pygments_lexer": "ipython3",
   "version": "3.9.0"
  },
  "orig_nbformat": 4
 },
 "nbformat": 4,
 "nbformat_minor": 2
}
